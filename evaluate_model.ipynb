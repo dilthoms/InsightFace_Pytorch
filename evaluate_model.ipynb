{
 "cells": [
  {
   "cell_type": "code",
   "execution_count": 1,
   "metadata": {
    "ExecuteTime": {
     "end_time": "2018-08-06T12:16:01.581503Z",
     "start_time": "2018-08-06T12:16:01.377552Z"
    }
   },
   "outputs": [],
   "source": [
    "# see http://stackoverflow.com/questions/1907993/autoreload-of-modules-in-ipython\n",
    "%load_ext autoreload\n",
    "%autoreload 2\n",
    "%matplotlib inline\n",
    "import pdb"
   ]
  },
  {
   "cell_type": "code",
   "execution_count": 2,
   "metadata": {
    "ExecuteTime": {
     "end_time": "2018-08-06T12:16:02.981513Z",
     "start_time": "2018-08-06T12:16:01.884463Z"
    },
    "scrolled": true
   },
   "outputs": [],
   "source": [
    "from config import get_config\n",
    "import argparse\n",
    "from Learner import face_learner\n",
    "from data.data_pipe import get_val_pair\n",
    "from torchvision import transforms as trans"
   ]
  },
  {
   "cell_type": "code",
   "execution_count": 3,
   "metadata": {
    "ExecuteTime": {
     "end_time": "2018-08-06T12:16:15.802435Z",
     "start_time": "2018-08-06T12:16:15.225902Z"
    }
   },
   "outputs": [],
   "source": [
    "conf = get_config(training=False)"
   ]
  },
  {
   "cell_type": "code",
   "execution_count": 4,
   "metadata": {
    "ExecuteTime": {
     "end_time": "2018-08-06T12:07:28.254338Z",
     "start_time": "2018-08-06T12:07:25.077127Z"
    }
   },
   "outputs": [
    {
     "name": "stdout",
     "output_type": "stream",
     "text": [
      "{'data_path': PosixPath('data'), 'work_path': PosixPath('work_space'), 'model_path': PosixPath('work_space/models'), 'log_path': PosixPath('work_space/log'), 'save_path': PosixPath('work_space/save'), 'input_size': [112, 112], 'embedding_size': 512, 'use_mobilfacenet': True, 'net_depth': 50, 'drop_ratio': 0.6, 'net_mode': 'mobilefacenet', 'device': device(type='cuda', index=0), 'test_transform': Compose(\n",
      "    ToTensor()\n",
      "    Normalize(mean=[0.5, 0.5, 0.5], std=[0.5, 0.5, 0.5])\n",
      "), 'data_mode': 'age', 'vgg_folder': PosixPath('data/faces_vgg_112x112'), 'ms1m_folder': PosixPath('data/faces_ms1m_112x112'), 'emore_folder': PosixPath('data/faces_emore'), 'batch_size': 256, 'age_train_file': PosixPath('data/ageid.txt'), 'facebank_path': PosixPath('data/facebank'), 'threshold': 1.5, 'face_limit': 10, 'min_face_size': 30}\n",
      "MobileFaceNet model generated\n"
     ]
    }
   ],
   "source": [
    "learner = face_learner(conf, inference=True)"
   ]
  },
  {
   "cell_type": "code",
   "execution_count": 5,
   "metadata": {
    "ExecuteTime": {
     "end_time": "2018-08-05T08:16:48.699975Z",
     "start_time": "2018-08-05T08:16:48.577620Z"
    }
   },
   "outputs": [],
   "source": [
    "learner.load_state(conf, 'final.pth', model_only=True, from_save_folder=True)"
   ]
  },
  {
   "cell_type": "code",
   "execution_count": 7,
   "metadata": {
    "ExecuteTime": {
     "end_time": "2018-08-05T08:17:34.370828Z",
     "start_time": "2018-08-05T08:16:54.595433Z"
    }
   },
   "outputs": [
    {
     "name": "stdout",
     "output_type": "stream",
     "text": [
      "> /home/dilip/git/InsightFace_Pytorch/verifacation.py(38)calculate_roc()\n",
      "-> nrof_pairs = min(len(actual_issame), embeddings1.shape[0])\n",
      "(Pdb) l\n",
      " 33  \timport pdb\n",
      " 34  \tdef calculate_roc(thresholds, embeddings1, embeddings2, actual_issame, nrof_folds=10, pca=0):\n",
      " 35  \t    assert (embeddings1.shape[0] == embeddings2.shape[0])\n",
      " 36  \t    assert (embeddings1.shape[1] == embeddings2.shape[1])\n",
      " 37  \t    pdb.set_trace()\n",
      " 38  ->\t    nrof_pairs = min(len(actual_issame), embeddings1.shape[0])\n",
      " 39  \t    nrof_thresholds = len(thresholds)\n",
      " 40  \t    k_fold = KFold(n_splits=nrof_folds, shuffle=False)\n",
      " 41  \t\n",
      " 42  \t    tprs = np.zeros((nrof_folds, nrof_thresholds))\n",
      " 43  \t    fprs = np.zeros((nrof_folds, nrof_thresholds))\n",
      "(Pdb) embeddings1.shape\n",
      "(5000, 512)\n",
      "(Pdb) embeddings2.shape\n",
      "(5000, 512)\n",
      "(Pdb) n\n",
      "> /home/dilip/git/InsightFace_Pytorch/verifacation.py(39)calculate_roc()\n",
      "-> nrof_thresholds = len(thresholds)\n",
      "(Pdb) n\n",
      "> /home/dilip/git/InsightFace_Pytorch/verifacation.py(40)calculate_roc()\n",
      "-> k_fold = KFold(n_splits=nrof_folds, shuffle=False)\n",
      "(Pdb) n\n",
      "> /home/dilip/git/InsightFace_Pytorch/verifacation.py(42)calculate_roc()\n",
      "-> tprs = np.zeros((nrof_folds, nrof_thresholds))\n",
      "(Pdb) nrof_pairs\n",
      "5000\n",
      "(Pdb) nrof_thresholds\n",
      "400\n",
      "(Pdb) n\n",
      "> /home/dilip/git/InsightFace_Pytorch/verifacation.py(43)calculate_roc()\n",
      "-> fprs = np.zeros((nrof_folds, nrof_thresholds))\n",
      "(Pdb) \n",
      "> /home/dilip/git/InsightFace_Pytorch/verifacation.py(44)calculate_roc()\n",
      "-> accuracy = np.zeros((nrof_folds))\n",
      "(Pdb) \n",
      "> /home/dilip/git/InsightFace_Pytorch/verifacation.py(45)calculate_roc()\n",
      "-> best_thresholds = np.zeros((nrof_folds))\n",
      "(Pdb) \n",
      "> /home/dilip/git/InsightFace_Pytorch/verifacation.py(46)calculate_roc()\n",
      "-> indices = np.arange(nrof_pairs)\n",
      "(Pdb) \n",
      "> /home/dilip/git/InsightFace_Pytorch/verifacation.py(49)calculate_roc()\n",
      "-> if pca == 0:\n",
      "(Pdb) \n",
      "> /home/dilip/git/InsightFace_Pytorch/verifacation.py(50)calculate_roc()\n",
      "-> diff = np.subtract(embeddings1, embeddings2)\n",
      "(Pdb) n\n",
      "> /home/dilip/git/InsightFace_Pytorch/verifacation.py(51)calculate_roc()\n",
      "-> dist = np.sum(np.square(diff), 1)\n",
      "(Pdb) diff\n",
      "array([[-0.06631883,  0.03239777, -0.06089554, ..., -0.00113284,\n",
      "        -0.06413246, -0.07034109],\n",
      "       [-0.01485306, -0.01786223, -0.03394684, ..., -0.06018535,\n",
      "         0.01029561,  0.03286621],\n",
      "       [ 0.02683929, -0.01706076,  0.06715408, ...,  0.03270954,\n",
      "        -0.07724882, -0.02297792],\n",
      "       ...,\n",
      "       [ 0.06286015, -0.06841567,  0.0234987 , ...,  0.00352072,\n",
      "        -0.00526584, -0.02115597],\n",
      "       [-0.0059    ,  0.05640602, -0.10323142, ..., -0.00265973,\n",
      "        -0.0626972 ,  0.21874762],\n",
      "       [ 0.        ,  0.        ,  0.        , ...,  0.        ,\n",
      "         0.        ,  0.        ]])\n",
      "(Pdb) n\n",
      "> /home/dilip/git/InsightFace_Pytorch/verifacation.py(53)calculate_roc()\n",
      "-> for fold_idx, (train_set, test_set) in enumerate(k_fold.split(indices)):\n",
      "(Pdb) dist\n",
      "array([0.97787215, 1.23943456, 0.85694025, ..., 1.67996599, 1.97834014,\n",
      "       0.        ])\n",
      "(Pdb) dist.shape\n",
      "(5000,)\n",
      "(Pdb) diff.shape\n",
      "(5000, 512)\n",
      "(Pdb) n\n",
      "> /home/dilip/git/InsightFace_Pytorch/verifacation.py(56)calculate_roc()\n",
      "-> if pca > 0:\n",
      "(Pdb) l\n",
      " 51  \t        dist = np.sum(np.square(diff), 1)\n",
      " 52  \t\n",
      " 53  \t    for fold_idx, (train_set, test_set) in enumerate(k_fold.split(indices)):\n",
      " 54  \t        # print('train_set', train_set)\n",
      " 55  \t        # print('test_set', test_set)\n",
      " 56  ->\t        if pca > 0:\n",
      " 57  \t            print('doing pca on', fold_idx)\n",
      " 58  \t            embed1_train = embeddings1[train_set]\n",
      " 59  \t            embed2_train = embeddings2[train_set]\n",
      " 60  \t            _embed_train = np.concatenate((embed1_train, embed2_train), axis=0)\n",
      " 61  \t            # print(_embed_train.shape)\n",
      "(Pdb) n\n",
      "> /home/dilip/git/InsightFace_Pytorch/verifacation.py(73)calculate_roc()\n",
      "-> acc_train = np.zeros((nrof_thresholds))\n",
      "(Pdb) n\n",
      "> /home/dilip/git/InsightFace_Pytorch/verifacation.py(74)calculate_roc()\n",
      "-> for threshold_idx, threshold in enumerate(thresholds):\n",
      "(Pdb) n\n",
      "> /home/dilip/git/InsightFace_Pytorch/verifacation.py(75)calculate_roc()\n",
      "-> _, _, acc_train[threshold_idx] = calculate_accuracy(threshold, dist[train_set], actual_issame[train_set])\n",
      "(Pdb) c\n",
      "vgg2_fp - accuray:0.9066000000000001, threshold:1.7429999999999999\n"
     ]
    },
    {
     "data": {
      "image/png": "[encoded data removed]",
      "text/plain": [
       "<PIL.Image.Image image mode=RGB size=432x288 at 0x7F8D91F68CC0>"
      ]
     },
     "execution_count": 7,
     "metadata": {},
     "output_type": "execute_result"
    }
   ],
   "source": [
    "vgg2_fp, vgg2_fp_issame = get_val_pair(conf.emore_folder, 'vgg2_fp')\n",
    "accuracy, best_threshold, roc_curve_tensor = learner.evaluate(conf, vgg2_fp, vgg2_fp_issame, nrof_folds=10, tta=True)\n",
    "print('vgg2_fp - accuray:{}, threshold:{}'.format(accuracy, best_threshold))\n",
    "trans.ToPILImage()(roc_curve_tensor)"
   ]
  },
  {
   "cell_type": "code",
   "execution_count": 6,
   "metadata": {},
   "outputs": [],
   "source": [
    "lag, lag_issame = get_val_pair(conf.emore_folder, 'LAG')"
   ]
  },
  {
   "cell_type": "code",
   "execution_count": null,
   "metadata": {},
   "outputs": [],
   "source": [
    "import numpy as np\n",
    "lag_issame = np.array([True]*len(lag_issame))"
   ]
  },
  {
   "cell_type": "code",
   "execution_count": 7,
   "metadata": {},
   "outputs": [
    {
     "name": "stdout",
     "output_type": "stream",
     "text": [
      "LAG - accuray:0.8083009256506314, threshold:1.768\n"
     ]
    },
    {
     "data": {
      "image/png": "[encoded data removed]",
      "text/plain": [
       "<PIL.Image.Image image mode=RGB size=432x288 at 0x7F63D05CCDA0>"
      ]
     },
     "execution_count": 7,
     "metadata": {},
     "output_type": "execute_result"
    }
   ],
   "source": [
    "accuracy, best_threshold, roc_curve_tensor = learner.evaluate(conf, lag,lag_issame, nrof_folds=10, tta=True)\n",
    "print('LAG - accuray:{}, threshold:{}'.format(accuracy, best_threshold))\n",
    "trans.ToPILImage()(roc_curve_tensor)"
   ]
  },
  {
   "cell_type": "code",
   "execution_count": null,
   "metadata": {},
   "outputs": [],
   "source": [
    "lag_issame"
   ]
  },
  {
   "cell_type": "code",
   "execution_count": null,
   "metadata": {
    "ExecuteTime": {
     "end_time": "2018-08-05T08:18:22.280104Z",
     "start_time": "2018-08-05T08:17:34.371667Z"
    }
   },
   "outputs": [],
   "source": [
    "agedb_30, agedb_30_issame = get_val_pair(conf.emore_folder, 'agedb_30')\n",
    "accuracy, best_threshold, roc_curve_tensor = learner.evaluate(conf, agedb_30, agedb_30_issame, nrof_folds=10, tta=True)\n",
    "print('agedb_30 - accuray:{}, threshold:{}'.format(accuracy, best_threshold))\n",
    "trans.ToPILImage()(roc_curve_tensor)"
   ]
  },
  {
   "cell_type": "code",
   "execution_count": null,
   "metadata": {
    "ExecuteTime": {
     "end_time": "2018-08-05T08:19:10.989848Z",
     "start_time": "2018-08-05T08:18:22.280898Z"
    }
   },
   "outputs": [],
   "source": [
    "calfw, calfw_issame = get_val_pair(conf.emore_folder, 'calfw')\n",
    "accuracy, best_threshold, roc_curve_tensor = learner.evaluate(conf, calfw, calfw_issame, nrof_folds=10, tta=True)\n",
    "print('calfw - accuray:{}, threshold:{}'.format(accuracy, best_threshold))\n",
    "trans.ToPILImage()(roc_curve_tensor)"
   ]
  },
  {
   "cell_type": "code",
   "execution_count": null,
   "metadata": {
    "ExecuteTime": {
     "end_time": "2018-08-05T08:20:07.093886Z",
     "start_time": "2018-08-05T08:19:10.990656Z"
    }
   },
   "outputs": [],
   "source": [
    "cfp_ff, cfp_ff_issame = get_val_pair(conf.emore_folder, 'cfp_ff')\n",
    "accuracy, best_threshold, roc_curve_tensor = learner.evaluate(conf, cfp_ff, cfp_ff_issame, nrof_folds=10, tta=True)\n",
    "print('cfp_ff - accuray:{}, threshold:{}'.format(accuracy, best_threshold))\n",
    "trans.ToPILImage()(roc_curve_tensor)"
   ]
  },
  {
   "cell_type": "code",
   "execution_count": null,
   "metadata": {
    "ExecuteTime": {
     "end_time": "2018-08-05T08:21:03.272833Z",
     "start_time": "2018-08-05T08:20:07.094703Z"
    }
   },
   "outputs": [],
   "source": [
    "cfp_fp, cfp_fp_issame = get_val_pair(conf.emore_folder, 'cfp_fp')\n",
    "accuracy, best_threshold, roc_curve_tensor = learner.evaluate(conf, cfp_fp, cfp_fp_issame, nrof_folds=10, tta=True)\n",
    "print('cfp_fp - accuray:{}, threshold:{}'.format(accuracy, best_threshold))\n",
    "trans.ToPILImage()(roc_curve_tensor)"
   ]
  },
  {
   "cell_type": "code",
   "execution_count": null,
   "metadata": {
    "ExecuteTime": {
     "end_time": "2018-08-05T08:21:51.583959Z",
     "start_time": "2018-08-05T08:21:03.273666Z"
    }
   },
   "outputs": [],
   "source": [
    "cplfw, cplfw_issame = get_val_pair(conf.emore_folder, 'cplfw')\n",
    "accuracy, best_threshold, roc_curve_tensor = learner.evaluate(conf, cplfw, cplfw_issame, nrof_folds=10, tta=True)\n",
    "print('cplfw - accuray:{}, threshold:{}'.format(accuracy, best_threshold))\n",
    "trans.ToPILImage()(roc_curve_tensor)"
   ]
  },
  {
   "cell_type": "code",
   "execution_count": null,
   "metadata": {
    "ExecuteTime": {
     "end_time": "2018-08-05T08:22:39.844455Z",
     "start_time": "2018-08-05T08:21:51.584778Z"
    },
    "scrolled": false
   },
   "outputs": [],
   "source": [
    "lfw, lfw_issame = get_val_pair(conf.emore_folder, 'lfw')\n",
    "accuracy, best_threshold, roc_curve_tensor = learner.evaluate(conf, lfw, lfw_issame, nrof_folds=10, tta=True)\n",
    "print('lfw - accuray:{}, threshold:{}'.format(accuracy, best_threshold))\n",
    "trans.ToPILImage()(roc_curve_tensor)"
   ]
  },
  {
   "cell_type": "code",
   "execution_count": null,
   "metadata": {
    "ExecuteTime": {
     "end_time": "2018-08-06T12:16:20.800212Z",
     "start_time": "2018-08-06T12:16:20.779466Z"
    }
   },
   "outputs": [],
   "source": [
    "conf.use_mobilfacenet = True"
   ]
  },
  {
   "cell_type": "code",
   "execution_count": null,
   "metadata": {
    "ExecuteTime": {
     "end_time": "2018-08-06T12:16:23.221644Z",
     "start_time": "2018-08-06T12:16:21.054952Z"
    }
   },
   "outputs": [],
   "source": [
    "learner = face_learner(conf, inference=True)"
   ]
  },
  {
   "cell_type": "code",
   "execution_count": null,
   "metadata": {
    "ExecuteTime": {
     "end_time": "2018-08-06T12:16:28.597709Z",
     "start_time": "2018-08-06T12:16:28.517182Z"
    }
   },
   "outputs": [],
   "source": [
    "learner.load_state(conf, 'mobilefacenet.pth', True, True)"
   ]
  },
  {
   "cell_type": "code",
   "execution_count": null,
   "metadata": {
    "ExecuteTime": {
     "end_time": "2018-08-06T12:08:41.321635Z",
     "start_time": "2018-08-06T12:08:25.989406Z"
    }
   },
   "outputs": [],
   "source": [
    "vgg2_fp, vgg2_fp_issame = get_val_pair(conf.emore_folder, 'vgg2_fp')\n",
    "accuracy, best_threshold, roc_curve_tensor = learner.evaluate(conf, vgg2_fp, vgg2_fp_issame, nrof_folds=10, tta=True)\n",
    "print('vgg2_fp - accuray:{}, threshold:{}'.format(accuracy, best_threshold))\n",
    "trans.ToPILImage()(roc_curve_tensor)"
   ]
  },
  {
   "cell_type": "code",
   "execution_count": null,
   "metadata": {
    "ExecuteTime": {
     "end_time": "2018-08-06T12:08:58.154562Z",
     "start_time": "2018-08-06T12:08:41.322814Z"
    }
   },
   "outputs": [],
   "source": [
    "agedb_30, agedb_30_issame = get_val_pair(conf.emore_folder, 'agedb_30')\n",
    "accuracy, best_threshold, roc_curve_tensor = learner.evaluate(conf, agedb_30, agedb_30_issame, nrof_folds=10, tta=True)\n",
    "print('agedb_30 - accuray:{}, threshold:{}'.format(accuracy, best_threshold))\n",
    "trans.ToPILImage()(roc_curve_tensor)"
   ]
  },
  {
   "cell_type": "code",
   "execution_count": null,
   "metadata": {
    "ExecuteTime": {
     "end_time": "2018-08-06T12:09:15.709817Z",
     "start_time": "2018-08-06T12:08:58.155453Z"
    }
   },
   "outputs": [],
   "source": [
    "calfw, calfw_issame = get_val_pair(conf.emore_folder, 'calfw')\n",
    "accuracy, best_threshold, roc_curve_tensor = learner.evaluate(conf, calfw, calfw_issame, nrof_folds=10, tta=True)\n",
    "print('calfw - accuray:{}, threshold:{}'.format(accuracy, best_threshold))\n",
    "trans.ToPILImage()(roc_curve_tensor)"
   ]
  },
  {
   "cell_type": "code",
   "execution_count": null,
   "metadata": {
    "ExecuteTime": {
     "end_time": "2018-08-06T12:09:35.552967Z",
     "start_time": "2018-08-06T12:09:15.711000Z"
    }
   },
   "outputs": [],
   "source": [
    "cfp_ff, cfp_ff_issame = get_val_pair(conf.emore_folder, 'cfp_ff')\n",
    "accuracy, best_threshold, roc_curve_tensor = learner.evaluate(conf, cfp_ff, cfp_ff_issame, nrof_folds=10, tta=True)\n",
    "print('cfp_ff - accuray:{}, threshold:{}'.format(accuracy, best_threshold))\n",
    "trans.ToPILImage()(roc_curve_tensor)"
   ]
  },
  {
   "cell_type": "code",
   "execution_count": null,
   "metadata": {
    "ExecuteTime": {
     "end_time": "2018-08-06T12:09:54.973120Z",
     "start_time": "2018-08-06T12:09:35.553840Z"
    }
   },
   "outputs": [],
   "source": [
    "cfp_fp, cfp_fp_issame = get_val_pair(conf.emore_folder, 'cfp_fp')\n",
    "accuracy, best_threshold, roc_curve_tensor = learner.evaluate(conf, cfp_fp, cfp_fp_issame, nrof_folds=10, tta=True)\n",
    "print('cfp_fp - accuray:{}, threshold:{}'.format(accuracy, best_threshold))\n",
    "trans.ToPILImage()(roc_curve_tensor)"
   ]
  },
  {
   "cell_type": "code",
   "execution_count": null,
   "metadata": {
    "ExecuteTime": {
     "end_time": "2018-08-06T12:10:13.593599Z",
     "start_time": "2018-08-06T12:09:54.973974Z"
    }
   },
   "outputs": [],
   "source": [
    "cplfw, cplfw_issame = get_val_pair(conf.emore_folder, 'cplfw')\n",
    "accuracy, best_threshold, roc_curve_tensor = learner.evaluate(conf, cplfw, cplfw_issame, nrof_folds=10, tta=True)\n",
    "print('cplfw - accuray:{}, threshold:{}'.format(accuracy, best_threshold))\n",
    "trans.ToPILImage()(roc_curve_tensor)"
   ]
  },
  {
   "cell_type": "code",
   "execution_count": null,
   "metadata": {
    "ExecuteTime": {
     "end_time": "2018-08-06T12:10:30.937786Z",
     "start_time": "2018-08-06T12:10:13.594457Z"
    },
    "scrolled": false
   },
   "outputs": [],
   "source": [
    "lfw, lfw_issame = get_val_pair(conf.emore_folder, 'lfw')\n",
    "accuracy, best_threshold, roc_curve_tensor = learner.evaluate(conf, lfw, lfw_issame, nrof_folds=10, tta=True)\n",
    "print('lfw - accuray:{}, threshold:{}'.format(accuracy, best_threshold))\n",
    "trans.ToPILImage()(roc_curve_tensor)"
   ]
  },
  {
   "cell_type": "code",
   "execution_count": null,
   "metadata": {},
   "outputs": [],
   "source": []
  }
 ],
 "metadata": {
  "hide_input": false,
  "kernelspec": {
   "display_name": "Python 3",
   "language": "python",
   "name": "python3"
  },
  "language_info": {
   "codemirror_mode": {
    "name": "ipython",
    "version": 3
   },
   "file_extension": ".py",
   "mimetype": "text/x-python",
   "name": "python",
   "nbconvert_exporter": "python",
   "pygments_lexer": "ipython3",
   "version": "3.6.8"
  }
 },
 "nbformat": 4,
 "nbformat_minor": 2
}
